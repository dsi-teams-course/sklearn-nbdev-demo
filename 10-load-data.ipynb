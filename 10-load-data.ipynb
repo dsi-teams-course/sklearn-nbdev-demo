{
 "cells": [
  {
   "cell_type": "code",
   "execution_count": null,
   "id": "fe592903-ba10-496a-b32f-4f42fddd7ef4",
   "metadata": {},
   "outputs": [],
   "source": [
    "#all_no_test"
   ]
  },
  {
   "cell_type": "markdown",
   "id": "1a6db518-4ba9-418d-9c27-eb48df376b88",
   "metadata": {},
   "source": [
    "# 10-load-data\n",
    "> Loading the data\n",
    "\n",
    "In this notebook, we load and clean the data."
   ]
  },
  {
   "cell_type": "code",
   "execution_count": null,
   "id": "23b9246b-8045-45e8-a2f8-c949ff7ecdc8",
   "metadata": {},
   "outputs": [],
   "source": [
    "#default_exp load_data"
   ]
  },
  {
   "cell_type": "code",
   "execution_count": null,
   "id": "5d0f79bd-0718-4eea-a6b0-302d4cc0a8dd",
   "metadata": {},
   "outputs": [],
   "source": [
    "#export\n",
    "import pandas as pd\n",
    "from sklearn.model_selection import train_test_split"
   ]
  },
  {
   "cell_type": "code",
   "execution_count": null,
   "id": "8b5db0ff-4dac-4fda-becc-c289668709b4",
   "metadata": {},
   "outputs": [],
   "source": [
    "#export\n",
    "def load_cleaned_data():\n",
    "    \n",
    "    # load the data\n",
    "    penguins = pd.read_csv('https://raw.githubusercontent.com/allisonhorst/palmerpenguins/master/inst/extdata/penguins.csv')\n",
    "    \n",
    "    # clean the data\n",
    "    penguins = penguins.dropna(subset=['sex'])\n",
    "    \n",
    "    return penguins"
   ]
  },
  {
   "cell_type": "code",
   "execution_count": null,
   "id": "10eea976-86fd-4674-9691-c69bc0c2452e",
   "metadata": {},
   "outputs": [],
   "source": [
    "#export\n",
    "def get_standard_split(df_in, class_col, random_state=1234, train_pct=0.8):\n",
    "\n",
    "    X_train, X_test, y_train, y_test = train_test_split(df_in.drop(columns=class_col), df_in[class_col],\n",
    "                                                        test_size=0.25, random_state=random_state,\n",
    "                                                        stratify=df_in[class_col])\n",
    "    \n",
    "    return X_train, X_test, y_train, y_test"
   ]
  },
  {
   "cell_type": "markdown",
   "id": "21f8697d-b8b4-4dc5-bc58-e83c6a2a06b2",
   "metadata": {},
   "source": [
    "# Unit tests"
   ]
  },
  {
   "cell_type": "code",
   "execution_count": null,
   "id": "0f4d0e2b-664a-4de8-b488-fd90deb9de61",
   "metadata": {},
   "outputs": [],
   "source": []
  }
 ],
 "metadata": {
  "kernelspec": {
   "display_name": "Python 3 (ipykernel)",
   "language": "python",
   "name": "python3"
  }
 },
 "nbformat": 4,
 "nbformat_minor": 5
}
